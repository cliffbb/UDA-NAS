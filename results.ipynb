{
 "cells": [
  {
   "cell_type": "code",
   "execution_count": null,
   "metadata": {},
   "outputs": [],
   "source": [
    "## Oracle and Source only\n",
    "oracle = (0.35610  + 0.49590+ 0.50810+ 0.598300 + 0.6865000 + 0.7998000 + 0.7570999 + 0.786800) / 8\n",
    "source = (0.246200 + 0.481300 + 0.48840 + 0.572400 + 0.681800 + 0.678300 + 0.665100 + 0.766600) / 8\n",
    "print('Oracle: {:.2f} | Source: {:.2f}'.format(oracle*100, source*100))"
   ]
  },
  {
   "cell_type": "code",
   "execution_count": null,
   "metadata": {},
   "outputs": [],
   "source": []
  },
  {
   "cell_type": "code",
   "execution_count": null,
   "metadata": {},
   "outputs": [],
   "source": []
  },
  {
   "cell_type": "code",
   "execution_count": 16,
   "metadata": {},
   "outputs": [],
   "source": [
    "# Search results on OEM"
   ]
  },
  {
   "cell_type": "code",
   "execution_count": 40,
   "metadata": {},
   "outputs": [
    {
     "name": "stdout",
     "output_type": "stream",
     "text": [
      "57.9275 57.83875\n"
     ]
    }
   ],
   "source": [
    "re = (20.84 + 49.29 + 49.34 + 58.98 + 66.99 + 70.33 + 70.92 + 76.73)/8  # 1 ReCE\n",
    "ce = (20.87 + 48.38 + 48.85 + 57.56 + 67.36 + 72.29 + 70.85 + 76.55)/ 8 # 1 CE\n",
    "print(re, ce)"
   ]
  },
  {
   "cell_type": "code",
   "execution_count": 41,
   "metadata": {},
   "outputs": [
    {
     "name": "stdout",
     "output_type": "stream",
     "text": [
      "59.3925 57.11125\n"
     ]
    }
   ],
   "source": [
    "re = (28.03 + 49.41 + 50.35 + 58.69 + 68.75 + 73.51 + 69.19 + 77.21)/8  # 2 ReCE\n",
    "ce = (19.51 + 48.62 + 48.85 + 57.94 + 68.32 + 68.73 + 68.7 + 76.22)/8   # 2 CE\n",
    "print(re, ce)"
   ]
  },
  {
   "cell_type": "code",
   "execution_count": 42,
   "metadata": {},
   "outputs": [
    {
     "name": "stdout",
     "output_type": "stream",
     "text": [
      "58.43874999999999 57.9825\n"
     ]
    }
   ],
   "source": [
    "re = (29.65 + 48.73 + 50.01 + 58.25 + 67.32 + 67.09 + 69.46 + 77.00)/8  # 3 ReCE\n",
    "ce = (25.82 + 48.24 + 49.10 + 57.94 + 67.97 + 68.29 + 69.84 + 76.66)/8  # 3 CE\n",
    "print(re, ce)"
   ]
  },
  {
   "cell_type": "code",
   "execution_count": 43,
   "metadata": {},
   "outputs": [
    {
     "name": "stdout",
     "output_type": "stream",
     "text": [
      "58.2275 58.067499999999995\n"
     ]
    }
   ],
   "source": [
    "re = (26.65 + 49.24 + 49.84 +  58.6 + 67.38 + 67.44 + 69.94 + 76.73)/8  # 4 ReCE\n",
    "ce = (25.68 + 48.34 + 49.01 + 58.05 + 67.77 + 69.09 + 69.98 + 76.62)/8  #4 CE\n",
    "print(re, ce)"
   ]
  },
  {
   "cell_type": "code",
   "execution_count": 44,
   "metadata": {},
   "outputs": [
    {
     "name": "stdout",
     "output_type": "stream",
     "text": [
      "58.68375 57.69125\n"
     ]
    }
   ],
   "source": [
    "re = (26.06 + 49.59 + 49.26 + 57.91 + 68.16 + 70.59 + 71.05 + 76.85)/8  # 5 ReCall\n",
    "ce = (24.37 + 47.71 + 48.25 + 57.33 + 68.13 + 69.09 + 70.28 + 76.37)/8  #5 CE\n",
    "print(re, ce)"
   ]
  },
  {
   "cell_type": "code",
   "execution_count": 45,
   "metadata": {},
   "outputs": [
    {
     "name": "stdout",
     "output_type": "stream",
     "text": [
      "58.03125 57.11125\n"
     ]
    }
   ],
   "source": [
    "re = (23.97 + 48.8 + 48.81 + 58.86 + 68.20 + 70.76 + 67.85 + 77.0)/8   # 6 ReCE\n",
    "ce = (24.25 + 47.6 + 47.91 + 57.45 + 68.21 + 66.17 + 68.9 + 76.40)/8   #6 CE\n",
    "print(re, ce)"
   ]
  },
  {
   "cell_type": "code",
   "execution_count": 46,
   "metadata": {},
   "outputs": [
    {
     "name": "stdout",
     "output_type": "stream",
     "text": [
      "58.76124999999999 57.97125\n"
     ]
    }
   ],
   "source": [
    "re = (26.41 + 49.11 + 50.22 + 58.99 + 67.94 + 70.38 + 69.94 + 77.10)/8  # 7 ReCE\n",
    "ce = (25.13 + 47.48 + 49.21 + 58.27 + 68.05 + 69.33 + 69.11 + 77.19)/8  # 7 CE\n",
    "print(re, ce)"
   ]
  },
  {
   "cell_type": "code",
   "execution_count": 47,
   "metadata": {},
   "outputs": [
    {
     "name": "stdout",
     "output_type": "stream",
     "text": [
      "58.83 57.89125\n"
     ]
    }
   ],
   "source": [
    "re = (26.46 + 49.16 + 50.19 + 58.77 + 67.98 + 71.10 + 69.86 + 77.12)/8     # 8 ReCE\n",
    "ce = (23.26 + 47.90 + 49.45 + 58.12 + 68.30 + 69.04 + 70.14 + 76.92)/8     #8 CE\n",
    "print(re, ce)"
   ]
  },
  {
   "cell_type": "code",
   "execution_count": null,
   "metadata": {},
   "outputs": [],
   "source": []
  },
  {
   "cell_type": "code",
   "execution_count": 27,
   "metadata": {},
   "outputs": [],
   "source": [
    "########### OEM results (Cross-Entropy Loss)\n",
    "# '5,3,1,0,5,1,6,0,2,6,5,4,4,0,0,0,9,0,4,7,0,4,3,0,7,5' # Architecture option 2\n",
    "# ce1 = (18.03 + 46.82 + 46.50 + 54.93 + 65.10 + 63.90 + 63.30 + 74.85)/8 # CE_energy\n",
    "# ce2 = (19.51 + 48.62 + 48.85 + 57.94 + 68.32 + 68.73 + 68.70 + 76.22)/8 # CE\n",
    "# print('Energy: {:.2f} | Confidence: {:.2f}'.format(ce1, ce2))"
   ]
  },
  {
   "cell_type": "code",
   "execution_count": 3,
   "metadata": {},
   "outputs": [
    {
     "name": "stdout",
     "output_type": "stream",
     "text": [
      "59.38999999999999\n"
     ]
    }
   ],
   "source": [
    "########### OEM results (Recall Cross-Entropy Loss)\n",
    "# '5,3,1,0,5,1,6,0,2,6,5,4,4,0,0,0,9,0,4,7,0,4,3,0,7,5' # Architecture option 2 (Net-1)\n",
    "# ce1 = (23.42 + 48.53 + 48.67 + 58.80 + 67.30 + 65.97 + 68.90 + 74.13)/8 # ReCE_energy\n",
    "ce2 = (28.00 + 49.41 + 50.35 + 58.70 + 68.75 + 73.51 + 69.20 + 77.20)/8 # ReCE\n",
    "# print('Energy: {:.2f} | Confidence: {:.2f}'.format(ce1, ce2))\n",
    "print(ce2)"
   ]
  },
  {
   "cell_type": "code",
   "execution_count": 33,
   "metadata": {},
   "outputs": [],
   "source": [
    "########### OEM results (Cross-Entropy Loss)\n",
    "# '5,0,3,6,5,2,5,5,4,3,5,4,4,2,0,3,6,0,3,5,0,4,9,2,6,5' # Architecture option 8 \n",
    "# ce1 = (11.54 + 47.24 + 46.37 + 55.99 + 65.27 + 70.77 + 62.75 + 75.25 )/8 # CE_energy\n",
    "# ce2 = (23.26 + 47.90 + 49.45 + 58.12 + 68.30 + 69.04 + 70.14 + 76.92)/8 # CE\n",
    "# print('Energy: {:.2f} | Confidence: {:.2f}'.format(ce1, ce2))"
   ]
  },
  {
   "cell_type": "code",
   "execution_count": 4,
   "metadata": {},
   "outputs": [
    {
     "name": "stdout",
     "output_type": "stream",
     "text": [
      "57.15875\n"
     ]
    }
   ],
   "source": [
    "########### OEM results (Recall Cross-Entropy Loss)\n",
    "# '5,0,3,6,5,2,5,5,4,3,5,4,4,2,0,3,6,0,3,5,0,4,9,2,6,5' # Architecture option 8  (Net-2)\n",
    "ce1 = (22.99 + 49.14 + 48.94 + 58.74 + 67.07 + 69.28 + 67.10 + 74.01)/8 # ReCE_energy\n",
    "# ce2 = (26.45 + 49.17 + 50.19 + 58.78 + 67.97 + 71.10 + 69.86 + 77.12)/8 # ReCE\n",
    "# print('Energy: {:.2f} | Confidence: {:.2f}'.format(ce1, ce2))\n",
    "print(ce1)"
   ]
  },
  {
   "cell_type": "code",
   "execution_count": null,
   "metadata": {},
   "outputs": [],
   "source": []
  },
  {
   "cell_type": "code",
   "execution_count": 8,
   "metadata": {},
   "outputs": [
    {
     "name": "stdout",
     "output_type": "stream",
     "text": [
      "Enrergy filter: 51.58 | Confidence: 51.60\n"
     ]
    }
   ],
   "source": [
    "########### FLAIR results (Cross-Entropy Loss)\n",
    "# '5,3,1,0,5,1,6,0,2,6,5,4,4,0,0,0,9,0,4,7,0,4,3,0,7,5' # Architecture option 2\n",
    "# ce1 = (74.41 + 48.23 + 69.00 + 54.56 + 69.25 + 13.39 + 64.42 + 20.09 + 72.76 + 42.09 + 41.41 + 49.36)/12 # CE_energy_filter\n",
    "# ce2 = (74.37 + 47.21 + 68.94 + 49.28 + 70.59 + 12.27 + 64.16 + 21.95 + 78.64 + 41.43 + 41.50 + 48.92)/12 # CE\n",
    "# print('Enrergy filter: {:.2f} | Confidence: {:.2f}'.format(ce1, ce2))"
   ]
  },
  {
   "cell_type": "code",
   "execution_count": 9,
   "metadata": {},
   "outputs": [
    {
     "name": "stdout",
     "output_type": "stream",
     "text": [
      "Energy filter: 50.91  | Confidence: 51.20\n",
      "51.195833333333326\n"
     ]
    }
   ],
   "source": [
    "########### FLAIR results (Recall Cross-Entropy Loss)\n",
    "# '5,3,1,0,5,1,6,0,2,6,5,4,4,0,0,0,9,0,4,7,0,4,3,0,7,5' # Architecture option 2\n",
    "re1 = (74.90 + 47.46 + 69.31 + 51.8 + 71.65 + 11.32 + 58.05 + 24.26 + 65.97 + 43.63 + 42.37 + 50.20)/12 # ReCE_energy_filter\n",
    "re2 = (74.96 + 49.92 + 70.34+ 50.61 + 72.49 + 10.99 + 58.96 + 25.55 + 69.58 + 43.75 + 42.42 + 44.78)/12 # ReCE (Used for Net-C1)\n",
    "print('Energy filter: {:.2f}  | Confidence: {:.2f}'.format(re1, re2))\n",
    "print(re2)\n"
   ]
  },
  {
   "cell_type": "code",
   "execution_count": 6,
   "metadata": {},
   "outputs": [
    {
     "name": "stdout",
     "output_type": "stream",
     "text": [
      "Enrergy filter: 51.79 | Confidence: 51.08\n"
     ]
    }
   ],
   "source": [
    "########### FLAIR results (Cross-Entropy Loss)\n",
    "# '5,0,3,6,5,2,5,5,4,3,5,4,4,2,0,3,6,0,3,5,0,4,9,2,6,5' # Architecture option 8 \n",
    "ce1 = (75.07 + 51.34 + 69.56 + 52.51 + 69.01 + 12.87 + 64.76 + 22.68 + 73.11 + 42.94 +  42.8 + 44.88)/12 # CE_energy_filter\n",
    "ce2 = (72.18 + 46.65 + 68.65 + 54.42 + 66.56 + 13.95 + 64.62 + 21.30 + 74.06 + 43.97 + 41.85 + 44.69)/12 # CE\n",
    "print('Enrergy filter: {:.2f} | Confidence: {:.2f}'.format(ce1, ce2))"
   ]
  },
  {
   "cell_type": "code",
   "execution_count": 7,
   "metadata": {},
   "outputs": [
    {
     "name": "stdout",
     "output_type": "stream",
     "text": [
      "Energy filter: 49.99 | Confidence: 51.26\n",
      "49.994166666666665\n"
     ]
    }
   ],
   "source": [
    "########### FLAIR results (Recall Cross-Entropy Loss)\n",
    "# '5,0,3,6,5,2,5,5,4,3,5,4,4,2,0,3,6,0,3,5,0,4,9,2,6,5' # Architecture option 8 \n",
    "re1 = (75.21 + 51.17 + 70.44 + 52.26 + 68.95 + 11.21 + 61.25 + 25.31 + 51.62 + 44.38 + 40.16 + 47.97)/12 # ReCE_energy_filter\n",
    "re2 = (75.88 + 52.23 + 70.19 + 57.45 + 69.28 + 12.28 + 61.32 + 24.64 + 62.57 + 43.66 + 40.15 + 45.42)/12 # ReCE (Used for Net-C2)\n",
    "print('Energy filter: {:.2f} | Confidence: {:.2f}'.format(re1, re2))\n",
    "print(re1)"
   ]
  },
  {
   "cell_type": "code",
   "execution_count": null,
   "metadata": {},
   "outputs": [],
   "source": []
  },
  {
   "cell_type": "code",
   "execution_count": null,
   "metadata": {},
   "outputs": [],
   "source": []
  },
  {
   "cell_type": "code",
   "execution_count": null,
   "metadata": {},
   "outputs": [],
   "source": []
  },
  {
   "cell_type": "code",
   "execution_count": null,
   "metadata": {},
   "outputs": [],
   "source": []
  },
  {
   "cell_type": "code",
   "execution_count": null,
   "metadata": {},
   "outputs": [],
   "source": []
  },
  {
   "cell_type": "code",
   "execution_count": null,
   "metadata": {},
   "outputs": [],
   "source": []
  },
  {
   "cell_type": "code",
   "execution_count": 1,
   "metadata": {},
   "outputs": [],
   "source": [
    "# if choices == 1:\n",
    "#      choices = np.array([6,1,1,0,5,1,6,0,2,6,5,4,4,0,0,1,2,0,4,7,0,4,3,0,7,5])\n",
    "# elif choices == 2:\n",
    "#      choices = np.array([5,3,1,0,5,1,6,0,2,6,5,4,4,0,0,0,9,0,4,7,0,4,3,0,7,5])\n",
    "# elif choices == 3:\n",
    "#      choices = np.array([5,0,3,6,5,1,6,0,3,5,0,1,4,0,0,5,9,0,3,7,0,4,3,0,7,5])\n",
    "# elif choices == 4:\n",
    "#      choices = np.array([5,0,3,6,5,1,6,0,3,5,0,2,2,1,0,5,9,0,3,7,0,4,3,0,8,5])   \n",
    "# elif choices == 5:\n",
    "#      choices = np.array([5,6,0,1,0,1,2,0,0,4,0,4,1,2,0,0,0,0,1,9,0,1,9,0,4,5])\n",
    "# elif choices == 6:\n",
    "#      choices = np.array([5,6,1,4,0,1,2,0,0,4,0,4,4,2,0,0,0,0,1,9,0,1,9,0,4,5])\n",
    "# elif choices == 7:\n",
    "#      choices = np.array([5,6,1,4,0,1,2,0,4,3,5,4,4,2,0,3,6,0,1,5,0,1,9,0,4,5])  \n",
    "# elif choices == 8:\n",
    "#      choices = np.array([5,0,3,6,5,2,5,5,4,3,5,4,4,2,0,3,6,0,3,5,0,4,9,2,6,5]) "
   ]
  },
  {
   "cell_type": "code",
   "execution_count": 2,
   "metadata": {},
   "outputs": [],
   "source": [
    "# if choices == 1:\n",
    "#     choices = np.array([5,1,4,9,7,1,4,5,0,5,0,0,1,1,0,1,5,0,1,2,0,7,0,0,9,5]) #CE\n",
    "# elif choices == 2:\n",
    "#     choices = np.array([5,1,4,9,7,1,4,5,0,5,0,0,1,1,0,1,5,0,1,2,0,7,0,0,6,2])\n",
    "# elif choices == 3:\n",
    "#     choices = np.array([5,5,4,9,7,1,4,5,0,5,0,0,1,1,0,1,4,0,1,2,0,7,0,0,6,2])\n",
    "# elif choices == 4:\n",
    "#     choices = np.array([5,1,4,9,7,1,4,5,0,5,0,0,1,1,0,1,4,0,1,2,0,7,5,1,1,4])  \n",
    "# elif choices == 5:\n",
    "#     choices = np.array([5,1,4,9,7,1,4,5,0,5,0,0,1,1,0,1,4,0,1,2,0,7,5,3,1,4])\n",
    "# elif choices == 6:\n",
    "#     choices = np.array([6,6,1,8,0,2,1,1,3,7,0,0,0,2,0,2,4,0,1,1,0,4,5,0,4,0]) #RecallCE\n",
    "# elif choices == 7:\n",
    "#     choices = np.array([6,6,1,8,0,2,1,1,3,7,0,0,0,2,0,2,4,0,1,1,0,4,5,0,4,5])  \n",
    "# elif choices == 8:\n",
    "#     choices = np.array([6,6,1,8,0,2,1,1,3,7,0,0,0,2,0,2,4,0,1,1,0,4,5,0,6,5])      \n",
    "# elif choices == 9:\n",
    "#     choices = np.array([6,6,1,8,0,2,1,1,3,7,0,0,5,5,0,2,4,0,1,2,0,4,5,0,6,5])  \n",
    "# elif choices == 10:\n",
    "#     choices = np.array([5,3,1,0,5,1,6,0,2,6,5,4,4,0,0,0,9,0,4,7,0,4,3,0,7,5])   # 2 from previous best\n"
   ]
  },
  {
   "cell_type": "code",
   "execution_count": null,
   "metadata": {},
   "outputs": [],
   "source": []
  },
  {
   "cell_type": "code",
   "execution_count": null,
   "metadata": {},
   "outputs": [],
   "source": []
  },
  {
   "cell_type": "code",
   "execution_count": null,
   "metadata": {},
   "outputs": [],
   "source": []
  },
  {
   "cell_type": "code",
   "execution_count": null,
   "metadata": {},
   "outputs": [],
   "source": []
  },
  {
   "cell_type": "code",
   "execution_count": null,
   "metadata": {},
   "outputs": [],
   "source": []
  }
 ],
 "metadata": {
  "kernelspec": {
   "display_name": ".venv",
   "language": "python",
   "name": "python3"
  },
  "language_info": {
   "codemirror_mode": {
    "name": "ipython",
    "version": 3
   },
   "file_extension": ".py",
   "mimetype": "text/x-python",
   "name": "python",
   "nbconvert_exporter": "python",
   "pygments_lexer": "ipython3",
   "version": "3.6.8"
  },
  "orig_nbformat": 4
 },
 "nbformat": 4,
 "nbformat_minor": 2
}
